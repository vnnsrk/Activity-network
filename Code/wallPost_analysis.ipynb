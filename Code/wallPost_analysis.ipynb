{
 "cells": [
  {
   "cell_type": "code",
   "execution_count": 1,
   "metadata": {},
   "outputs": [
    {
     "name": "stdout",
     "output_type": "stream",
     "text": [
      "['28', '28', '1095135831']\n"
     ]
    }
   ],
   "source": [
    "d=[]\n",
    "with open('facebook-wall.txt','r') as f:\n",
    "    data=f.readlines()\n",
    "    print data[0].split()\n",
    "    #for i in data:\n",
    "        #print i\n",
    "        #print i.strip().split()\n",
    "        #d.append(i.strip().split())"
   ]
  },
  {
   "cell_type": "code",
   "execution_count": 2,
   "metadata": {
    "collapsed": true
   },
   "outputs": [],
   "source": [
    "import networkx as nx\n",
    "gr=nx.Graph()\n",
    "for i in data:\n",
    "    temp=i.split()\n",
    "    gr.add_edge(int(temp[0]),int(temp[1]))"
   ]
  },
  {
   "cell_type": "code",
   "execution_count": 3,
   "metadata": {},
   "outputs": [
    {
     "data": {
      "text/plain": [
       "'Name: \\nType: Graph\\nNumber of nodes: 46952\\nNumber of edges: 193494\\nAverage degree:   8.2422'"
      ]
     },
     "execution_count": 3,
     "metadata": {},
     "output_type": "execute_result"
    }
   ],
   "source": [
    "nx.info(gr)"
   ]
  },
  {
   "cell_type": "code",
   "execution_count": 4,
   "metadata": {
    "collapsed": true
   },
   "outputs": [],
   "source": [
    "nx.write_gml(gr,'gr_wall.gml')"
   ]
  },
  {
   "cell_type": "code",
   "execution_count": 17,
   "metadata": {},
   "outputs": [
    {
     "name": "stdout",
     "output_type": "stream",
     "text": [
      "['Rajavel Ramadoss ', 'Dec 24, 2016']\n"
     ]
    }
   ],
   "source": [
    "d=[]\n",
    "with open('friends.txt','r') as f:\n",
    "    data=f.readlines()\n",
    "    print data[104].strip().strip(')').split('(')\n",
    "    #for i in data:\n",
    "        #print i\n",
    "        #print i.strip().split()\n",
    "        #d.append(i.strip().split())"
   ]
  },
  {
   "cell_type": "code",
   "execution_count": 19,
   "metadata": {},
   "outputs": [],
   "source": [
    "gr1=nx.Graph()\n",
    "gr1.add_node('Srinath Narayanan',date=\"Jan 1, 2009\")\n",
    "for i in data:\n",
    "    temp=i.strip().strip(')').split('(')\n",
    "    if(len(temp)==2):\n",
    "        gr1.add_node(temp[0],date=temp[1])\n",
    "        gr1.add_edge('Srinath Narayanan',temp[0])"
   ]
  },
  {
   "cell_type": "code",
   "execution_count": 20,
   "metadata": {
    "collapsed": true
   },
   "outputs": [],
   "source": [
    "nx.write_gml(gr1,'gr_me.gml')"
   ]
  },
  {
   "cell_type": "code",
   "execution_count": null,
   "metadata": {
    "collapsed": true
   },
   "outputs": [],
   "source": []
  }
 ],
 "metadata": {
  "kernelspec": {
   "display_name": "Python 2",
   "language": "python",
   "name": "python2"
  },
  "language_info": {
   "codemirror_mode": {
    "name": "ipython",
    "version": 2
   },
   "file_extension": ".py",
   "mimetype": "text/x-python",
   "name": "python",
   "nbconvert_exporter": "python",
   "pygments_lexer": "ipython2",
   "version": "2.7.14"
  }
 },
 "nbformat": 4,
 "nbformat_minor": 2
}
